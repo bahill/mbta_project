{
 "cells": [
  {
   "cell_type": "markdown",
   "id": "4e7c79e0",
   "metadata": {},
   "source": [
    "# Problem Description:\n",
    "Boston’s transportation system, the [MBTA](https://mbta.com/), has a [website with APIs](https://api-v3.mbta.com/docs/swagger/index.html)."
   ]
  },
  {
   "cell_type": "markdown",
   "id": "39578e52",
   "metadata": {},
   "source": [
    "## Setup\n",
    "\n",
    "I decided to add the API key because a ratelimit of 20 was turning out to be pretty low, and causing KeyErrors in some of my loops"
   ]
  },
  {
   "cell_type": "code",
   "execution_count": 29,
   "id": "c26d7418",
   "metadata": {},
   "outputs": [],
   "source": [
    "import requests\n",
    "\n",
    "api_key = \"6f1058bc4865463e8aba8608821ab32c\"\n",
    "default_params = {\"api_key\": api_key}\n",
    "endpoint_routes = \"https://api-v3.mbta.com/routes\"\n",
    "endpoint_stops = \"https://api-v3.mbta.com/stops\""
   ]
  },
  {
   "cell_type": "markdown",
   "id": "14081dd8",
   "metadata": {},
   "source": [
    "Checking my ratelimit"
   ]
  },
  {
   "cell_type": "code",
   "execution_count": 2,
   "id": "6e1b2747",
   "metadata": {},
   "outputs": [
    {
     "name": "stdout",
     "output_type": "stream",
     "text": [
      "{'Date': 'Wed, 20 Oct 2021 04:14:23 GMT', 'Content-Type': 'application/vnd.api+json; charset=utf-8', 'Content-Length': '545287', 'Connection': 'keep-alive', 'cache-control': 'max-age=0, private, must-revalidate', 'content-encoding': 'gzip', 'last-modified': 'Tue, 19 Oct 2021 22:17:05 GMT', 'server': 'Cowboy', 'strict-transport-security': 'max-age=31536000', 'vary': 'accept-encoding', 'x-ratelimit-limit': '1000', 'x-ratelimit-remaining': '999', 'x-ratelimit-reset': '1634703300', 'x-request-id': 'Fq-h9MWnIzZT33ABOtKC'}\n"
     ]
    }
   ],
   "source": [
    "r = requests.get(endpoint_stops, params = default_params )\n",
    "print(r.headers)"
   ]
  },
  {
   "cell_type": "markdown",
   "id": "ee81cf9d",
   "metadata": {},
   "source": [
    "## 1) Write a program that retrieves data representing all “subway” routes:\n",
    "“Light Rail” (type 0) and “Heavy Rail” (type 1). The program should list their “long names”\n",
    "on the console.\n",
    "\n",
    "-----\n",
    "_This is a lot of output and can also be seen in the [Swagger UI](https://api-v3.mbta.com/docs/swagger/index.html#/) - but I found it useful to see how it looked here (as it was not as pretty)_"
   ]
  },
  {
   "cell_type": "code",
   "execution_count": null,
   "id": "fc5f6b38",
   "metadata": {
    "scrolled": true
   },
   "outputs": [],
   "source": [
    "# requests.get(endpoint_routes, params = default_params).json()"
   ]
  },
  {
   "cell_type": "markdown",
   "id": "d2c28c42",
   "metadata": {},
   "source": [
    "I chose to filter the routes directly in the request\n",
    "\"https://api-v3.mbta.com/routes?filter[type]=0,1\" because then I'm only retrieving the data I want* for this exercise and I don't have to write additional logic to do this.\n",
    "\n",
    "_*which is basically the whole point of an API to begin with_"
   ]
  },
  {
   "cell_type": "code",
   "execution_count": null,
   "id": "d8298417",
   "metadata": {
    "scrolled": true
   },
   "outputs": [],
   "source": [
    "# filter_params = {\"fields[route]\": \"short_name,long_name,id\", \"filter[type]\": \"1,0\", \"api_key\": api_key}\n",
    "# requests.get(endpoint_routes, filter_params).json()"
   ]
  },
  {
   "cell_type": "markdown",
   "id": "593236af",
   "metadata": {},
   "source": [
    "### get_route_names()\n",
    "returns long_names of \"Subway\" routes"
   ]
  },
  {
   "cell_type": "code",
   "execution_count": 30,
   "id": "575ca946",
   "metadata": {},
   "outputs": [
    {
     "name": "stdout",
     "output_type": "stream",
     "text": [
      "Red Line\n",
      "Mattapan Trolley\n",
      "Orange Line\n",
      "Green Line B\n",
      "Green Line C\n",
      "Green Line D\n",
      "Green Line E\n",
      "Blue Line\n"
     ]
    }
   ],
   "source": [
    "def get_route_names():\n",
    "    filter_params = {\"fields[route]\": \"short_name,long_name,id\", \"filter[type]\": \"1,0\", \"api_key\": api_key}\n",
    "    response_mbta = requests.get(endpoint_routes, filter_params).json()\n",
    "    data = response_mbta[\"data\"]\n",
    "    for route in data:\n",
    "        # print(route)\n",
    "        # print(route['attributes']['long_name'])\n",
    "        name = route['attributes']['long_name']\n",
    "        print(name)\n",
    "        \n",
    "        \n",
    "get_route_names()"
   ]
  },
  {
   "cell_type": "markdown",
   "id": "34b5d7a6",
   "metadata": {},
   "source": [
    "## 2) Extend your program so it displays the following additional information.\n",
    "    a) The name of the subway route with the most stops as well as a count its stops.\n",
    "    b) The name of the subway route with the fewest stops as well as a count its stops.\n",
    "    c) A list of the stops that connect two or more subway routes along with the relevant route names for each of those stops"
   ]
  },
  {
   "cell_type": "markdown",
   "id": "2abe9328",
   "metadata": {},
   "source": [
    "\n",
    "Get the list of long_names & route_ids from the routes endpoint and create a tuple, which we can use later to loop over and create our Route class objects."
   ]
  },
  {
   "cell_type": "code",
   "execution_count": 31,
   "id": "68ffad00",
   "metadata": {
    "scrolled": true
   },
   "outputs": [
    {
     "name": "stdout",
     "output_type": "stream",
     "text": [
      "long names: ['Red Line', 'Mattapan Trolley', 'Orange Line', 'Green Line B', 'Green Line C', 'Green Line D', 'Green Line E', 'Blue Line']\n",
      "route ids['Red', 'Mattapan', 'Orange', 'Green-B', 'Green-C', 'Green-D', 'Green-E', 'Blue']\n"
     ]
    }
   ],
   "source": [
    "long_names = []\n",
    "route_ids = []\n",
    "\n",
    "def get_route_names():\n",
    "    response_routes = requests.get(endpoint_routes, filter_params).json()\n",
    "    data_routes = response_routes[\"data\"]\n",
    "    for route in data_routes:\n",
    "        long_name = route['attributes']['long_name']\n",
    "        route_id = route['id']\n",
    "        long_names.append(long_name)\n",
    "        route_ids.append(route_id)\n",
    "    name_tuple = zip(long_names, route_ids)\n",
    "    return name_tuple\n",
    "        \n",
    "route_names_ids = get_route_names()\n",
    "print(\"long names: \" + str(long_names))\n",
    "print(\"route ids\" + str(route_ids))"
   ]
  },
  {
   "cell_type": "markdown",
   "id": "1f5a8f56",
   "metadata": {},
   "source": [
    "---\n",
    "Define a function to get the list of stops for the specified route (by route id)"
   ]
  },
  {
   "cell_type": "code",
   "execution_count": 44,
   "id": "35105883",
   "metadata": {
    "scrolled": true
   },
   "outputs": [
    {
     "name": "stdout",
     "output_type": "stream",
     "text": [
      "-- TESTING get_stops() --\n",
      "['Alewife', 'Davis', 'Porter', 'Harvard', 'Central', 'Kendall/MIT', 'Charles/MGH', 'Park Street', 'Downtown Crossing', 'South Station', 'Broadway', 'Andrew', 'JFK/UMass', 'Savin Hill', 'Fields Corner', 'Shawmut', 'Ashmont', 'North Quincy', 'Wollaston', 'Quincy Center', 'Quincy Adams', 'Braintree']\n"
     ]
    }
   ],
   "source": [
    "## Remember that route == route_id (note to self)\n",
    "\n",
    "def get_stops(route_id):\n",
    "    endpoint_stops = \"https://api-v3.mbta.com/stops\"\n",
    "    stop_q_params = {\"fields[stop]\": \"name\", \"include\": \"route\", \"filter[route]\": route_id, \"api_key\": api_key}\n",
    "    response_stops = requests.get(endpoint_stops, stop_q_params).json()\n",
    "    #print(response_stops)\n",
    "    stop_data = response_stops[\"data\"]\n",
    "    route_stops = []\n",
    "    for stop in stop_data:\n",
    "        stop_name = stop[\"attributes\"][\"name\"]\n",
    "        route_stops.append(stop_name)\n",
    "        # print(stop_name)\n",
    "    return route_stops\n",
    "\n",
    "#get_stops(\"Red\")\n",
    "print(\"-- TESTING get_stops() --\")\n",
    "print(get_stops(\"Red\"))"
   ]
  },
  {
   "cell_type": "markdown",
   "id": "a2cf5c6e",
   "metadata": {},
   "source": [
    "---\n",
    "Now, make a dictionary with routes as keys and their list of stops as the values, by looping over get_stops()"
   ]
  },
  {
   "cell_type": "code",
   "execution_count": 45,
   "id": "7e004783",
   "metadata": {
    "scrolled": true
   },
   "outputs": [
    {
     "name": "stdout",
     "output_type": "stream",
     "text": [
      "{'Red': ['Alewife', 'Davis', 'Porter', 'Harvard', 'Central', 'Kendall/MIT', 'Charles/MGH', 'Park Street', 'Downtown Crossing', 'South Station', 'Broadway', 'Andrew', 'JFK/UMass', 'Savin Hill', 'Fields Corner', 'Shawmut', 'Ashmont', 'North Quincy', 'Wollaston', 'Quincy Center', 'Quincy Adams', 'Braintree'], 'Mattapan': ['Ashmont', 'Cedar Grove', 'Butler', 'Milton', 'Central Avenue', 'Valley Road', 'Capen Street', 'Mattapan'], 'Orange': ['Forest Hills', 'Green Street', 'Stony Brook', 'Jackson Square', 'Roxbury Crossing', 'Ruggles', 'Massachusetts Avenue', 'Back Bay', 'Tufts Medical Center', 'Chinatown', 'Downtown Crossing', 'State', 'Haymarket', 'North Station', 'Community College', 'Sullivan Square', 'Assembly', 'Wellington', 'Malden Center', 'Oak Grove'], 'Green-B': ['Boston College', 'South Street', 'Chestnut Hill Avenue', 'Chiswick Road', 'Sutherland Road', 'Washington Street', 'Warren Street', 'Allston Street', 'Griggs Street', 'Harvard Avenue', 'Packards Corner', 'Babcock Street', 'Saint Paul Street', 'Boston University West', 'Boston University Central', 'Boston University East', 'Blandford Street', 'Kenmore', 'Hynes Convention Center', 'Copley', 'Arlington', 'Boylston', 'Park Street'], 'Green-C': ['Cleveland Circle', 'Englewood Avenue', 'Dean Road', 'Tappan Street', 'Washington Square', 'Fairbanks Street', 'Brandon Hall', 'Summit Avenue', 'Coolidge Corner', 'Saint Paul Street', 'Kent Street', 'Hawes Street', \"Saint Mary's Street\", 'Kenmore', 'Hynes Convention Center', 'Copley', 'Arlington', 'Boylston', 'Park Street', 'Government Center', 'Haymarket', 'North Station'], 'Green-D': ['Government Center', 'Park Street', 'Boylston', 'Arlington', 'Copley', 'Hynes Convention Center', 'Kenmore', 'Fenway', 'Longwood', 'Brookline Village', 'Beaconsfield', 'Reservoir', 'Chestnut Hill', 'Newton Centre', 'Newton Highlands', 'Eliot', 'Waban', 'Woodland', 'Riverside'], 'Green-E': ['Heath Street', 'Back of the Hill', 'Riverway', 'Mission Park', 'Fenwood Road', 'Brigham Circle', 'Longwood Medical Area', 'Museum of Fine Arts', 'Northeastern University', 'Symphony', 'Prudential', 'Copley', 'Arlington', 'Boylston', 'Park Street', 'Government Center', 'Haymarket', 'North Station'], 'Blue': ['Bowdoin', 'Government Center', 'State', 'Aquarium', 'Maverick', 'Airport', 'Wood Island', 'Orient Heights', 'Suffolk Downs', 'Beachmont', 'Revere Beach', 'Wonderland']}\n"
     ]
    }
   ],
   "source": [
    "route_dict = {}\n",
    "def make_route_stop_dict():    \n",
    "    for route_id in route_ids:\n",
    "        #print(\"{route_id} stops are {route_stops}\".format(route_id = route_id, route_stops = get_stops(route_id)))\n",
    "        route_dict[route_id] = get_stops(route_id)\n",
    "    return route_dict\n",
    "\n",
    "make_route_stop_dict()\n",
    "print(route_dict)\n"
   ]
  },
  {
   "cell_type": "markdown",
   "id": "7827c8f0",
   "metadata": {},
   "source": [
    "---\n",
    "### Now let's put it together\n",
    "\n",
    "At this point, I'm just going to be recreating parts of the API if I make more dictionaries, so it's time to create a Route class"
   ]
  },
  {
   "cell_type": "code",
   "execution_count": 46,
   "id": "88a43ee8",
   "metadata": {},
   "outputs": [],
   "source": [
    "class Route():\n",
    "    \n",
    "    def __init__(self, long_name, route_id, stops):\n",
    "        self.long_name = long_name\n",
    "        self.route_id = route_id\n",
    "        self.stops = stops\n",
    "        self.num_stops = len(stops)\n",
    "        \n",
    "    def __repr__(self):\n",
    "        return str(self)\n"
   ]
  },
  {
   "cell_type": "markdown",
   "id": "b2074a26",
   "metadata": {},
   "source": [
    "And now we loop over the list of tuples created with get_route_names, and grab the list of stops for each route (values in the route_dict) to create Route class objects for each route "
   ]
  },
  {
   "cell_type": "code",
   "execution_count": 35,
   "id": "e9bffc02",
   "metadata": {
    "scrolled": true
   },
   "outputs": [],
   "source": [
    "#list of class objects\n",
    "routeList = []\n",
    "for long_name, route_id in route_names_ids:\n",
    "    routeList.append(Route(long_name, route_id, route_dict[route_id]))\n",
    "\n",
    "# TESTING\n",
    "# for route in routeList:\n",
    "#     print('long_name: {}, route_id: {}, stops: {}'.format(route.long_name, route.route_id, route.stops))\n",
    "        "
   ]
  },
  {
   "cell_type": "markdown",
   "id": "240d3932",
   "metadata": {},
   "source": [
    "(and print out the instance variables for num_stops & route_id to test before moving on)\n",
    "\n",
    "_Programmatically, this could have been done by checking for empty values_"
   ]
  },
  {
   "cell_type": "code",
   "execution_count": 36,
   "id": "534108ba",
   "metadata": {},
   "outputs": [
    {
     "name": "stdout",
     "output_type": "stream",
     "text": [
      "22\n",
      "Red\n",
      "8\n",
      "Mattapan\n",
      "20\n",
      "Orange\n",
      "23\n",
      "Green-B\n",
      "22\n",
      "Green-C\n",
      "19\n",
      "Green-D\n",
      "18\n",
      "Green-E\n",
      "12\n",
      "Blue\n"
     ]
    }
   ],
   "source": [
    "for route in routeList:\n",
    "    print(route.num_stops)\n",
    "    print(route.route_id)"
   ]
  },
  {
   "cell_type": "markdown",
   "id": "209ab3bf",
   "metadata": {},
   "source": [
    "## 2) answers a + b\n",
    "    a) The name of the subway route with the most stops as well as a count its stops.\n",
    "    b) The name of the subway route with the fewest stops as well as a count its stops."
   ]
  },
  {
   "cell_type": "code",
   "execution_count": 50,
   "id": "3e2c11da",
   "metadata": {},
   "outputs": [
    {
     "name": "stdout",
     "output_type": "stream",
     "text": [
      "Green Line B has the most stops with 23 stops\n",
      "Mattapan Trolley has the fewest stops with 8 stops\n"
     ]
    }
   ],
   "source": [
    "# doesn't account for a tie\n",
    "\n",
    "def count_stops():\n",
    "    most_stops = 0\n",
    "    fewest_stops = 100\n",
    "    most_stops_name = \"\"\n",
    "    fewest_stops_name = \"\"\n",
    "    for route in routeList:\n",
    "        if route.num_stops >= most_stops:\n",
    "            most_stops = route.num_stops\n",
    "            most_stops_name = route.long_name\n",
    "        elif route.num_stops <= fewest_stops:\n",
    "            fewest_stops = route.num_stops\n",
    "            fewest_stops_name = route.long_name\n",
    "    print(\"{route} has the most stops with {num} stops\".format(route = most_stops_name, num = most_stops))\n",
    "    print(\"{route} has the fewest stops with {num} stops\".format(route = fewest_stops_name, num = fewest_stops))\n",
    "\n",
    "count_stops()"
   ]
  },
  {
   "cell_type": "markdown",
   "id": "3596ef4f",
   "metadata": {},
   "source": [
    " ## 2 c) \n",
    "A list of the stops that connect two or more subway routes along with the relevant route names for each of those stops"
   ]
  },
  {
   "cell_type": "markdown",
   "id": "38a128b9",
   "metadata": {},
   "source": [
    "\n",
    "Started by getting a list of all the stops that connect two or more subway routes"
   ]
  },
  {
   "cell_type": "code",
   "execution_count": 61,
   "id": "7d771acd",
   "metadata": {},
   "outputs": [
    {
     "name": "stdout",
     "output_type": "stream",
     "text": [
      "['Ashmont', 'Downtown Crossing', 'Park Street', 'Haymarket', 'North Station', 'State', 'Saint Paul Street', 'Boylston', 'Hynes Convention Center', 'Arlington', 'Kenmore', 'Copley', 'Government Center']\n"
     ]
    }
   ],
   "source": [
    "def get_connecting_stops():\n",
    "    #List of stops\n",
    "    all_stop_lists = list(route_dict.values())\n",
    "    all_stop_route_list = list(route_dict.keys())\n",
    "\n",
    "    ## TESTING ## \n",
    "    # print(all_stop_lists)\n",
    "    # red_list = list(route_dict.get('Red'))\n",
    "    # green_blist = list(route_dict.get('Green-B'))\n",
    "    # print(\"RED LIST\")\n",
    "    # print(red_list)\n",
    "    # print(\"GREEN B LIST\")\n",
    "    # print(green_blist)\n",
    "    #############\n",
    "\n",
    "    connecting_stops = []\n",
    "\n",
    "    for i in range(len(all_stop_lists)):\n",
    "        for j in range(i + 1, len(all_stop_lists)):\n",
    "            stop_match = set(all_stop_lists[i]) & set(all_stop_lists[j])\n",
    "            if len(stop_match) > 0:\n",
    "                # print(all_stop_route_list[i])\n",
    "                # print(list(stop_match))\n",
    "                connecting_stops += list(stop_match)\n",
    "\n",
    "    # print(connecting_stops)\n",
    "\n",
    "    # clean up duplicates\n",
    "    connecting_stops_unique = []\n",
    "    for stop in connecting_stops:\n",
    "        if stop not in connecting_stops_unique:\n",
    "            connecting_stops_unique.append(stop)\n",
    "    # print(connecting_stops_unique)\n",
    "    return connecting_stops_unique\n",
    "\n",
    "print(get_connecting_stops())\n",
    "connection_stops = get_connecting_stops()"
   ]
  },
  {
   "cell_type": "code",
   "execution_count": 64,
   "id": "86482615",
   "metadata": {},
   "outputs": [
    {
     "name": "stdout",
     "output_type": "stream",
     "text": [
      "---By stop ---\n",
      "Ashmont\n",
      "['Red Line', 'Mattapan Trolley']\n",
      "Downtown Crossing\n",
      "['Red Line', 'Orange Line']\n",
      "Park Street\n",
      "['Red Line', 'Green Line B', 'Green Line C', 'Green Line D', 'Green Line E']\n",
      "Haymarket\n",
      "['Orange Line', 'Green Line C', 'Green Line E']\n",
      "North Station\n",
      "['Orange Line', 'Green Line C', 'Green Line E']\n",
      "State\n",
      "['Orange Line', 'Blue Line']\n",
      "Saint Paul Street\n",
      "['Green Line B', 'Green Line C']\n",
      "Boylston\n",
      "['Green Line B', 'Green Line C', 'Green Line D', 'Green Line E']\n",
      "Hynes Convention Center\n",
      "['Green Line B', 'Green Line C', 'Green Line D']\n",
      "Arlington\n",
      "['Green Line B', 'Green Line C', 'Green Line D', 'Green Line E']\n",
      "Kenmore\n",
      "['Green Line B', 'Green Line C', 'Green Line D']\n",
      "Copley\n",
      "['Green Line B', 'Green Line C', 'Green Line D', 'Green Line E']\n",
      "Government Center\n",
      "['Green Line C', 'Green Line D', 'Green Line E', 'Blue Line']\n"
     ]
    }
   ],
   "source": [
    "# print('----by route----')\n",
    "# for route in routeList:\n",
    "#     rte_match = set(route.stops) & set(connection_stops)\n",
    "#     if len(rte_match) > 0:\n",
    "#         print(route.long_name)\n",
    "#         print(list(rte_match))\n",
    "        \n",
    "\n",
    "# flip it and reverse it...\n",
    "print(\"---By stop ---\")\n",
    "\n",
    "def stops_and_connected_routes():\n",
    "    for stop in connection_stops:\n",
    "        cnct_stops_by_route = []\n",
    "        for route in routeList:\n",
    "            if stop in route.stops:\n",
    "                cnct_stops_by_route.append(route.long_name)\n",
    "        print(stop)\n",
    "        print(cnct_stops_by_route)\n",
    "\n",
    "stops_and_connected_routes()"
   ]
  },
  {
   "cell_type": "markdown",
   "id": "e0ad80a8",
   "metadata": {},
   "source": [
    "## 3) Extend your program again such that the user can provide any two stops on the subway routes you listed for question 1.\n",
    "\n",
    "List the rail routes you would travel to get from one stop to the other. Pick a simple solution that answers the question."
   ]
  },
  {
   "cell_type": "markdown",
   "id": "2abc328f",
   "metadata": {},
   "source": [
    "---\n",
    "This is where I ran out of time - I'm able to get routes that only use one or two T routes. I'm missing the connecting routes for those that require a 3rd or 4th route to get from point A to point B. "
   ]
  },
  {
   "cell_type": "code",
   "execution_count": 65,
   "id": "7c1e8bcd",
   "metadata": {},
   "outputs": [
    {
     "name": "stdout",
     "output_type": "stream",
     "text": [
      "['Red Line']\n",
      "['Mattapan Trolley', 'Green Line D']\n",
      "['Red Line', 'Blue Line']\n"
     ]
    }
   ],
   "source": [
    "#misses those routes which need a connecting stop in the middle - IE Red to Blue, needs Green or Orange\n",
    "def which_way(start, stop):\n",
    "    the_way = []\n",
    "    route_start = \"\"\n",
    "    route_stop = \"\"\n",
    "    for route in routeList:\n",
    "        #this is good - but only works for this case\n",
    "        if start in route.stops and stop in route.stops:\n",
    "            the_way.append(route.long_name)\n",
    "            return(the_way)\n",
    "        elif start in route.stops:\n",
    "            route_start = route.long_name\n",
    "        elif stop in route.stops:\n",
    "            route_stop= route.long_name\n",
    "    the_way.append(route_start)\n",
    "    the_way.append(route_stop)\n",
    "    return(the_way)\n",
    "\n",
    "\n",
    "\n",
    "\n",
    "#Test\n",
    "print(which_way(\"Park Street\", \"Central\"))\n",
    "print(which_way(\"Ashmont\", \"Kenmore\" ))\n",
    "#misses needed connection\n",
    "print(which_way(\"Alewife\", \"State\"))\n",
    "            "
   ]
  },
  {
   "cell_type": "code",
   "execution_count": null,
   "id": "47990427",
   "metadata": {},
   "outputs": [],
   "source": []
  }
 ],
 "metadata": {
  "kernelspec": {
   "display_name": "Python 3 (ipykernel)",
   "language": "python",
   "name": "python3"
  },
  "language_info": {
   "codemirror_mode": {
    "name": "ipython",
    "version": 3
   },
   "file_extension": ".py",
   "mimetype": "text/x-python",
   "name": "python",
   "nbconvert_exporter": "python",
   "pygments_lexer": "ipython3",
   "version": "3.8.5"
  },
  "toc": {
   "base_numbering": 1,
   "nav_menu": {},
   "number_sections": false,
   "sideBar": true,
   "skip_h1_title": false,
   "title_cell": "Table of Contents",
   "title_sidebar": "Contents",
   "toc_cell": false,
   "toc_position": {},
   "toc_section_display": true,
   "toc_window_display": false
  }
 },
 "nbformat": 4,
 "nbformat_minor": 5
}
